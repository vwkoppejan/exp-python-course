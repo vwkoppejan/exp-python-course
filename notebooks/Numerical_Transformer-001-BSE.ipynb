{
 "cells": [
  {
   "cell_type": "code",
   "execution_count": 40,
   "metadata": {},
   "outputs": [],
   "source": [
    "import pandas as pd\n",
    "import numpy as np\n",
    "from sklearn.base import BaseEstimator, TransformerMixin\n",
    "from sklearn.impute import SimpleImputer\n",
    "\n",
    "\n",
    "class ColumnExtractor(BaseEstimator, TransformerMixin):\n",
    "    '''\n",
    "    ColumnExtractor up with SimpleImputer + StandardScaler (poc)\n",
    "    column selector build to select only numerical (=float) columns from a dataframe\n",
    "\n",
    "    '''    \n",
    "    def __init__(self, columns): \n",
    "        self.columns = columns\n",
    "        \n",
    "    def fit(self, X, y=None, **kwargs):\n",
    "        return self                     \n",
    "        \n",
    "    def transform(self, X, columns=[]): # returns a pandas.DataFrame with the selected columns as output\n",
    "        return X.loc[self.columns]\n"
   ]
  },
  {
   "cell_type": "code",
   "execution_count": 41,
   "metadata": {},
   "outputs": [],
   "source": [
    "from sklearn.preprocessing import StandardScaler\n",
    "\n",
    "def NumTransPipeline(numcolumns=[]):\n",
    "    nt_pipeline = Pipeline(steps=[\n",
    "        (\"column_select\", ColumnExtractor(numcolumns)),\n",
    "        (\"impute\", SimpleImputer(strategy=\"mean\")),\n",
    "        (\"scale\", StandardScaler())\n",
    "        ])\n",
    "    return nt_pipeline\n"
   ]
  }
 ],
 "metadata": {
  "kernelspec": {
   "display_name": "Python 3",
   "language": "python",
   "name": "python3"
  },
  "language_info": {
   "codemirror_mode": {
    "name": "ipython",
    "version": 3
   },
   "file_extension": ".py",
   "mimetype": "text/x-python",
   "name": "python",
   "nbconvert_exporter": "python",
   "pygments_lexer": "ipython3",
   "version": "3.6.9"
  }
 },
 "nbformat": 4,
 "nbformat_minor": 2
}
